{
 "cells": [
  {
   "cell_type": "markdown",
   "id": "00162c66-710f-48c6-900d-9548bef6e994",
   "metadata": {},
   "source": [
    "# Github Authentication from a hosted JupyterHub\n",
    "\n",
    "When using a cloud-hosted JupyterHub, it is important to have a secure _and_ convenient way to control how to push new code to GitHub or access private repositories.  We recommend using the [gh-scoped-creds](https://github.com/yuvipanda/gh-scoped-creds) utility developed by [Yuvi Panda](https://github.com/yuvipanda). Once installed and properly configured on a JupyterHub instance (that is something your Hub administrator needs to set up), it allows you to have fine-grained control over which repositories you want to allow push and pull from. When active, you can access those repos over HTTPS (_not_ over SSH), without having to constantly type passwords or tokens.  The authentication is active for the entire hub, so it works from any terminal."
   ]
  },
  {
   "cell_type": "markdown",
   "id": "d66b8586-f0a5-4955-8f9a-c6be00783e03",
   "metadata": {},
   "source": [
    "## Usage\n",
    "To use this tool, run the following code\n",
    "\n",
    "```python\n",
    "import gh_scoped_creds\n",
    "%ghscopedcreds\n",
    "```\n",
    "\n",
    "and follow the instructions (the companion [GHAUTH](GHAUTH.ipynb) notebook in this repository is available as a convenient mnemonic you can keep in your favorites for quick and frequent use of this)."
   ]
  },
  {
   "cell_type": "markdown",
   "id": "c9e281b1-7536-4a2d-8937-21d971e3542c",
   "metadata": {},
   "source": [
    "## Access setup\n",
    "\n",
    "Note that the first time you use this tool on a new hub, you will _not_ be able to actually connect yet. You first have to go to GitHub (the tool will show you the URL to go to, as it is hub-specific) and configure it to decide which repos you would like to allow access to. You also need to revisit that same link if you want to change the scope of this access, either to add new orgs/repos or to remove them.\n",
    "\n",
    "First, you need to allow installation of this app (the \"tunnel\" between the JupyterHub and GitHub is called an App on Github):\n",
    "\n",
    "![image.png](images/ghauth-install-1.png)\n",
    "\n",
    "When you click \"Install\", GitHub will ask you _where_ you want it installed - you can choose to add it to your personal account or to orgs you work on, so you can connect to those orgs:\n",
    "\n",
    "![image.png](images/ghauth-install-2.png)\n",
    "\n",
    "Within each account/org, you then have to choose whether to allow access to all repositories or only to specific ones:\n",
    "\n",
    "![image.png](images/ghauth-install-3.png)\n",
    "\n",
    "Once the process is completed, GitHub will show you the state of your setup with a page like this one:\n",
    "![image.png](images/ghauth-install-4.png)"
   ]
  },
  {
   "cell_type": "code",
   "execution_count": null,
   "id": "53abbf38-93fd-4670-9835-21c63da06cd0",
   "metadata": {},
   "outputs": [],
   "source": []
  }
 ],
 "metadata": {
  "kernelspec": {
   "display_name": "Python 3 (ipykernel)",
   "language": "python",
   "name": "python3"
  },
  "language_info": {
   "codemirror_mode": {
    "name": "ipython",
    "version": 3
   },
   "file_extension": ".py",
   "mimetype": "text/x-python",
   "name": "python",
   "nbconvert_exporter": "python",
   "pygments_lexer": "ipython3",
   "version": "3.9.13"
  }
 },
 "nbformat": 4,
 "nbformat_minor": 5
}
