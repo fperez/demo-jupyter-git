{
 "cells": [
  {
   "cell_type": "markdown",
   "id": "202ae902-cda6-41bd-ae70-a8f1f0dd9eef",
   "metadata": {},
   "source": [
    "# Activate GitHub Authentication\n",
    "\n",
    "This notebook is a convenient shortcut to store and quickly run the command that establishes an authenticated tunnel between this hub and GitHub, so that you can push securely _over https_ (we recommend that you do _not_ use git over SSH from this hub), and pull even from private repositories.\n",
    "\n",
    "Note that if the repos you need to work aren't configured for access from this hub, you need to go to\n",
    "\n",
    "https://github.com/apps/hub-jupytearth-org-github-integ\n",
    "\n",
    "and add them to your desired configuration.\n",
    "\n",
    "To use it, run the cell below and follow the printed instructions.  "
   ]
  },
  {
   "cell_type": "code",
   "execution_count": 1,
   "id": "c3abd737-7302-4c14-929a-b8cc9d581e98",
   "metadata": {},
   "outputs": [
    {
     "data": {
      "application/javascript": [
       "navigator.clipboard.writeText(\"EBA7-DD8A\");"
      ],
      "text/plain": [
       "<IPython.core.display.Javascript object>"
      ]
     },
     "metadata": {},
     "output_type": "display_data"
    },
    {
     "name": "stdout",
     "output_type": "stream",
     "text": [
      "The code EBA7-DD8A has been copied to your clipboard.\n",
      "You have 15 minutes to go to https://github.com/login/device and paste it there.\n",
      "\n",
      "Waiting.....\n"
     ]
    },
    {
     "data": {
      "text/html": [
       "<p style=\"background-color:lightgreen;\">Success! Authentication will expire in 8.0 hours.<br /></p>"
      ],
      "text/plain": [
       "<IPython.core.display.HTML object>"
      ]
     },
     "metadata": {},
     "output_type": "display_data"
    },
    {
     "name": "stdout",
     "output_type": "stream",
     "text": [
      "Visit https://github.com/apps/hub-jupytearth-org-github-integ to manage list of repositories you can push to from this location\n",
      "Tip: Use https:// URLs to clone and push to repos, not ssh URLs!\n"
     ]
    }
   ],
   "source": [
    "import gh_scoped_creds\n",
    "%ghscopedcreds"
   ]
  },
  {
   "cell_type": "markdown",
   "id": "4103602e-de93-4174-a4cd-ee12a15e3b0e",
   "metadata": {},
   "source": [
    "As a convenience, you can keep this notebook pinned in your JupyterLab favorites for quick access, so you can run it regardless of where you are:\n",
    "\n",
    "![image.png](images/favorites-ghauth.png)"
   ]
  },
  {
   "cell_type": "code",
   "execution_count": null,
   "id": "740b41e6-7098-4adb-ab55-3a8971e66c3a",
   "metadata": {},
   "outputs": [],
   "source": []
  }
 ],
 "metadata": {
  "kernelspec": {
   "display_name": "Python 3 (ipykernel)",
   "language": "python",
   "name": "python3"
  },
  "language_info": {
   "codemirror_mode": {
    "name": "ipython",
    "version": 3
   },
   "file_extension": ".py",
   "mimetype": "text/x-python",
   "name": "python",
   "nbconvert_exporter": "python",
   "pygments_lexer": "ipython3",
   "version": "3.9.13"
  }
 },
 "nbformat": 4,
 "nbformat_minor": 5
}
