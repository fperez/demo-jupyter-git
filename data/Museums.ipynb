{
 "cells": [
  {
   "cell_type": "code",
   "execution_count": 4,
   "id": "342e0686-688d-4cd6-a43c-d6e19476cceb",
   "metadata": {},
   "outputs": [
    {
     "data": {
      "application/geo+json": {
       "features": [
        {
         "geometry": {
          "coordinates": [
           -76.995003703568,
           38.9328428790235
          ],
          "type": "Point"
         },
         "properties": {
          "ADDRESS": "716 MONROE STREET NE",
          "ADDRESS_ID": 309744,
          "ALTNAME": "AMERICAN POETRY MUSEUM",
          "LEGALNAME": "HERITAGE US",
          "NAME": "AMERICAN POETRY MUSEUM",
          "OBJECTID": 1,
          "WEBURL": " http://americanpoetrymuseum.org/"
         },
         "type": "Feature"
        },
        {
         "geometry": {
          "coordinates": [
           -77.01958878310639,
           38.89911061096782
          ],
          "type": "Point"
         },
         "properties": {
          "ADDRESS": "719 6TH STREET NW",
          "ADDRESS_ID": 238949,
          "ALTNAME": " ",
          "LEGALNAME": "CORCORAN GALLERY OF ART",
          "NAME": "GERMAN-AMERICAN HERITAGE MUSEUM",
          "OBJECTID": 2,
          "WEBURL": "http://gahmusa.org/"
         },
         "type": "Feature"
        },
        {
         "geometry": {
          "coordinates": [
           -77.04460619923155,
           38.908030206509885
          ],
          "type": "Point"
         },
         "properties": {
          "ADDRESS": "1307 NEW HAMPSHIRE AVENUE NW",
          "ADDRESS_ID": 241060,
          "ALTNAME": "HEURICH HOUSE FOUNDATION",
          "LEGALNAME": "U.S. DEPARTMENT OF THE INTERIOR MUSEUM",
          "NAME": "HEURICH HOUSE FOUNDATION",
          "OBJECTID": 3,
          "WEBURL": "HTTP://HEURICHHOUSE.ORG"
         },
         "type": "Feature"
        },
        {
         "geometry": {
          "coordinates": [
           -77.02550917725944,
           38.88796214949963
          ],
          "type": "Point"
         },
         "properties": {
          "ADDRESS": "950 INDEPENDENCE AVENUE SW",
          "ADDRESS_ID": 293262,
          "ALTNAME": "NATIONAL MUSEUM OF AFRICAN ART",
          "LEGALNAME": "BUILDING PRESERVATION FOUNDATION",
          "NAME": "NATIONAL MUSEUM OF AFRICAN ART",
          "OBJECTID": 4,
          "WEBURL": "HTTP://AFRICA.SI.EDU/"
         },
         "type": "Feature"
        },
        {
         "geometry": {
          "coordinates": [
           -77.03820629325264,
           38.899842529027275
          ],
          "type": "Point"
         },
         "properties": {
          "ADDRESS": "740 JACKSON PLACE NW",
          "ADDRESS_ID": 218748,
          "ALTNAME": "THE WHITE HOUSE ENDOWMENT TRUST",
          "LEGALNAME": "NATIONAL BUILDING MUSEUM",
          "NAME": "THE WHITE HOUSE ENDOWMENT TRUST",
          "OBJECTID": 5,
          "WEBURL": "HTTP://WWW.WHITEHOUSEHISTORY.ORG"
         },
         "type": "Feature"
        },
        {
         "geometry": {
          "coordinates": [
           -76.99314290714912,
           38.8829885933721
          ],
          "type": "Point"
         },
         "properties": {
          "ADDRESS": "921 PENNSYLVANIA AVENUE SE",
          "ADDRESS_ID": 82564,
          "ALTNAME": "OLD NAVAL HOSPITAL FOUNDATION",
          "LEGALNAME": "JEWISH WAR VETERANS NATIONAL MEMORIAL MUSEUM ARCHIVES AND LI",
          "NAME": "OLD NAVAL HOSPITAL FOUNDATION",
          "OBJECTID": 6,
          "WEBURL": "http://hillcenterdc.org/home/"
         },
         "type": "Feature"
        },
        {
         "geometry": {
          "coordinates": [
           -77.04831079505838,
           38.894135140073566
          ],
          "type": "Point"
         },
         "properties": {
          "ADDRESS": "2201 C STREET NW",
          "ADDRESS_ID": 243360,
          "ALTNAME": "DIPLOMATIC ROOMS FOUNDATION",
          "LEGALNAME": "NATIONAL PLASTICS MUSEUM INC",
          "NAME": "DIPLOMATIC ROOMS FOUNDATION",
          "OBJECTID": 7,
          "WEBURL": "https://diplomaticrooms.state.gov/home.aspx"
         },
         "type": "Feature"
        },
        {
         "geometry": {
          "coordinates": [
           -77.08841712551974,
           38.9390892139132
          ],
          "type": "Point"
         },
         "properties": {
          "ADDRESS": "4400 MASSACHUSETTS AVENUE NW",
          "ADDRESS_ID": 223994,
          "ALTNAME": "AMERICAN UNIVERSITY MUSEUM AT THE KATZEN ARTS CENTER",
          "LEGALNAME": "VERNISSAGE FOUNDATION",
          "NAME": "AMERICAN UNIVERSITY MUSEUM AT THE KATZEN ARTS CENTER",
          "OBJECTID": 8,
          "WEBURL": "HTTP://WWW.AMERICAN.EDU/CAS/MUSEUM/"
         },
         "type": "Feature"
        },
        {
         "geometry": {
          "coordinates": [
           -77.0464284034822,
           38.89880233850966
          ],
          "type": "Point"
         },
         "properties": {
          "ADDRESS": "2320 S STREET NW",
          "ADDRESS_ID": 243164,
          "ALTNAME": "TEXTILE MUSEUM",
          "LEGALNAME": "SMITHSONIAN INSTITUTION, S. DILLON RIPLEY CENTER",
          "NAME": "TEXTILE MUSEUM",
          "OBJECTID": 9,
          "WEBURL": "HTTP://WWW.TEXTILEMUSEUM.ORG"
         },
         "type": "Feature"
        },
        {
         "geometry": {
          "coordinates": [
           -77.03815544194862,
           38.90519711304962
          ],
          "type": "Point"
         },
         "properties": {
          "ADDRESS": "1145 17TH STREET NW",
          "ADDRESS_ID": 290192,
          "ALTNAME": " ",
          "LEGALNAME": "CAPITOL HILL RESTORATION SOCIETY INC",
          "NAME": "NATIONAL GEOGRAPHIC MUSEUM",
          "OBJECTID": 10,
          "WEBURL": "HTTP://WWW.NATIONALGEOGRAPHIC.COM"
         },
         "type": "Feature"
        },
        {
         "geometry": {
          "coordinates": [
           -76.96989266812075,
           38.91241055669072
          ],
          "type": "Point"
         },
         "properties": {
          "ADDRESS": "3501 NEW YORK AVENUE NE",
          "ADDRESS_ID": 293238,
          "ALTNAME": " ",
          "LEGALNAME": "NATIONAL BONSAI FOUNDATION",
          "NAME": "THE NATIONAL BONSAI & PENJING MUSEUM",
          "OBJECTID": 11,
          "WEBURL": "https://www.bonsai-nbf.org/contact-us/"
         },
         "type": "Feature"
        },
        {
         "geometry": {
          "coordinates": [
           -77.04592748104784,
           38.90839101941751
          ],
          "type": "Point"
         },
         "properties": {
          "ADDRESS": "2020 O STREET NW",
          "ADDRESS_ID": 243057,
          "ALTNAME": " ",
          "LEGALNAME": "LEPIDOPTERISTS SOCIETY",
          "NAME": "O STREET MUSEUM",
          "OBJECTID": 12,
          "WEBURL": "http://www.omuseum.org/museum/"
         },
         "type": "Feature"
        },
        {
         "geometry": {
          "coordinates": [
           -77.0476448925699,
           38.89296693766957
          ],
          "type": "Point"
         },
         "properties": {
          "ADDRESS": "2101 CONSTITUTION AVENUE NW",
          "ADDRESS_ID": 242716,
          "ALTNAME": "NATIONAL ACADEMY OF SCIENCES",
          "LEGALNAME": "SMITHSONIAN INSTITUTION, NATURAL HISTORY MUSEUM",
          "NAME": "NATIONAL ACADEMY OF SCIENCES",
          "OBJECTID": 13,
          "WEBURL": "WWW.NATIONALACADEMIES.ORG/NAS/ARTS"
         },
         "type": "Feature"
        },
        {
         "geometry": {
          "coordinates": [
           -77.08878098790044,
           38.92191197499568
          ],
          "type": "Point"
         },
         "properties": {
          "ADDRESS": "2401 FOXHALL ROAD NW",
          "ADDRESS_ID": 271251,
          "ALTNAME": "KREEGER MUSEUM",
          "LEGALNAME": "CONGRESSIONAL CEMETERY",
          "NAME": "KREEGER MUSEUM",
          "OBJECTID": 14,
          "WEBURL": "HTTP://WWW.KREEGERMUSEUM.ORG/"
         },
         "type": "Feature"
        },
        {
         "geometry": {
          "coordinates": [
           -77.029163689541,
           38.90005647268176
          ],
          "type": "Point"
         },
         "properties": {
          "ADDRESS": "1250 NEW YORK AVENUE NW",
          "ADDRESS_ID": 279010,
          "ALTNAME": "THE NATIONAL MUSEUM OF WOMEN IN THE ART",
          "LEGALNAME": "NATIONAL MUSEUM OF HEALTH AND MEDICINE",
          "NAME": "THE NATIONAL MUSEUM OF WOMEN IN THE ART",
          "OBJECTID": 15,
          "WEBURL": "HTTP://WWW.NMWA.ORG"
         },
         "type": "Feature"
        },
        {
         "geometry": {
          "coordinates": [
           -77.02446647929001,
           38.888201004559114
          ],
          "type": "Point"
         },
         "properties": {
          "ADDRESS": "900 JEFFERSON DRIVE SW",
          "ADDRESS_ID": 293260,
          "ALTNAME": " ",
          "LEGALNAME": "ANACOSTIA COMMUNITY MUSEUM",
          "NAME": "ARTS AND INDUSTRIES BUILDING",
          "OBJECTID": 16,
          "WEBURL": "http://www.si.edu/Museums/arts-and-industries-building"
         },
         "type": "Feature"
        },
        {
         "geometry": {
          "coordinates": [
           -76.99526950368147,
           38.87303084860059
          ],
          "type": "Point"
         },
         "properties": {
          "ADDRESS": "736 SICARD STREET SE",
          "ADDRESS_ID": 311896,
          "ALTNAME": "NATIONAL MUSEUM OF UNITED STATES NAVY",
          "LEGALNAME": "BLACK SPORTS LEGENDS FOUNDATION",
          "NAME": "NATIONAL MUSEUM OF UNITED STATES NAVY",
          "OBJECTID": 17,
          "WEBURL": "http://www.history.navy.mil/museums/NationalMuseum/org8-1.htm"
         },
         "type": "Feature"
        },
        {
         "geometry": {
          "coordinates": [
           -77.0397427304576,
           38.895854463821884
          ],
          "type": "Point"
         },
         "properties": {
          "ADDRESS": "500 17TH STREET NW",
          "ADDRESS_ID": 279802,
          "ALTNAME": "CORCORAN GALLERY OF ART",
          "LEGALNAME": "SMITHSONIAN INSTITUTION, NATIONAL ZOOLOGICAL PARK",
          "NAME": "CORCORAN GALLERY OF ART",
          "OBJECTID": 18,
          "WEBURL": "http://www.corcoran.org/"
         },
         "type": "Feature"
        },
        {
         "geometry": {
          "coordinates": [
           -77.04573426864144,
           38.90157618582308
          ],
          "type": "Point"
         },
         "properties": {
          "ADDRESS": "2017 I STREET NW",
          "ADDRESS_ID": 285527,
          "ALTNAME": "THE ARTS CLUB OF WASHINGTON",
          "LEGALNAME": "SMITHSONIAN INSTITUTION, NATIONAL MUSEUM OF AFRICAN AMERICAN HISTORY AND CULTURE",
          "NAME": "THE ARTS CLUB OF WASHINGTON",
          "OBJECTID": 19,
          "WEBURL": "HTTP://WWW.ARTSCLUBOFWASHINGTON.ORG"
         },
         "type": "Feature"
        },
        {
         "geometry": {
          "coordinates": [
           -77.01493675564363,
           38.89857205791096
          ],
          "type": "Point"
         },
         "properties": {
          "ADDRESS": "701 3RD STREET NW",
          "ADDRESS_ID": 293253,
          "ALTNAME": " ",
          "LEGALNAME": "LILLIAN AND ALBERT SMALL JEWISH MUSEUM",
          "NAME": "LILLIAN AND ALBERT SMALL JEWISH MUSEUM",
          "OBJECTID": 20,
          "WEBURL": "http://www.jhsgw.org/"
         },
         "type": "Feature"
        },
        {
         "geometry": {
          "coordinates": [
           -77.00110470253333,
           38.891131915241964
          ],
          "type": "Point"
         },
         "properties": {
          "ADDRESS": "320 A STREET NE",
          "ADDRESS_ID": 38979,
          "ALTNAME": " ",
          "LEGALNAME": "COSMOS CLUB HISTORIC PRESERVATION FOUNDATION",
          "NAME": "FREDERICK DOUGLASS MUSEUM",
          "OBJECTID": 21,
          "WEBURL": "http://www3.nahc.org/fd/"
         },
         "type": "Feature"
        },
        {
         "geometry": {
          "coordinates": [
           -77.03108432435003,
           38.89804891426683
          ],
          "type": "Point"
         },
         "properties": {
          "ADDRESS": "1334 G STREET NW",
          "ADDRESS_ID": 240658,
          "ALTNAME": "ARMENIAN GENOCIDE MUSEUM AND MEMORIAL",
          "LEGALNAME": "GERMAN-AMERICAN HERITAGE MUSEUM",
          "NAME": "ARMENIAN GENOCIDE MUSEUM AND MEMORIAL",
          "OBJECTID": 22,
          "WEBURL": "http://www.armeniangenocidemuseum.org/"
         },
         "type": "Feature"
        },
        {
         "geometry": {
          "coordinates": [
           -77.04141820048949,
           38.89635375607101
          ],
          "type": "Point"
         },
         "properties": {
          "ADDRESS": "1799 NEW YORK AVENUE NW",
          "ADDRESS_ID": 218490,
          "ALTNAME": " ",
          "LEGALNAME": "AMERICAN RED CROSS MUSEUM",
          "NAME": "OCTAGON MUSEUM",
          "OBJECTID": 23,
          "WEBURL": "HTTP://WWW.THEOCTAGON.ORG"
         },
         "type": "Feature"
        },
        {
         "geometry": {
          "coordinates": [
           -76.97678467186984,
           38.8565826636904
          ],
          "type": "Point"
         },
         "properties": {
          "ADDRESS": "1901 FORT PLACE SE",
          "ADDRESS_ID": 286524,
          "ALTNAME": "ANACOSTIA COMMUNITY MUSEUM",
          "LEGALNAME": "FAUNA & FLORA INTERNATIONAL INC",
          "NAME": "ANACOSTIA COMMUNITY MUSEUM",
          "OBJECTID": 24,
          "WEBURL": "HTTP://ANACOSTIA.SI.EDU"
         },
         "type": "Feature"
        },
        {
         "geometry": {
          "coordinates": [
           -77.05118108814123,
           38.91537084189858
          ],
          "type": "Point"
         },
         "properties": {
          "ADDRESS": "2312 CALIFORNIA STREET NW",
          "ADDRESS_ID": 234961,
          "ALTNAME": " ",
          "LEGALNAME": "GREENSEED COMMUNITY GARDEN LAND TRUST",
          "NAME": "NATIONAL MUSEUM OF THE JEWISH PEOPLE",
          "OBJECTID": 25,
          "WEBURL": "http://www.nsideas.com/archive/nmjh/"
         },
         "type": "Feature"
        },
        {
         "geometry": {
          "coordinates": [
           -77.04020705622152,
           38.89482654014118
          ],
          "type": "Point"
         },
         "properties": {
          "ADDRESS": "430 17TH STREET NW",
          "ADDRESS_ID": 300987,
          "ALTNAME": "AMERICAN RED CROSS MUSEUM",
          "LEGALNAME": "DOUBLE M MANAGEMENT",
          "NAME": "AMERICAN RED CROSS MUSEUM",
          "OBJECTID": 26,
          "WEBURL": "http://www.redcross.org/"
         },
         "type": "Feature"
        },
        {
         "geometry": {
          "coordinates": [
           -77.04685454590388,
           38.91150979086159
          ],
          "type": "Point"
         },
         "properties": {
          "ADDRESS": "1600 21ST STREET NW",
          "ADDRESS_ID": 243333,
          "ALTNAME": "THE PHILLIPS COLLECTION",
          "LEGALNAME": "SMITHSONIAN INSTITUTION, RENWICK GALLERY",
          "NAME": "THE PHILLIPS COLLECTION",
          "OBJECTID": 27,
          "WEBURL": "HTTP://WWW.PHILLIPSCOLLECTION.ORG"
         },
         "type": "Feature"
        },
        {
         "geometry": {
          "coordinates": [
           -77.02328618491306,
           38.896986480912865
          ],
          "type": "Point"
         },
         "properties": {
          "ADDRESS": "800 F STREET NW",
          "ADDRESS_ID": 238378,
          "ALTNAME": "INTERNATIONAL SPY MUSEUM",
          "LEGALNAME": "CONFEDERATE MEMORIAL HALL ASSOCIATION",
          "NAME": "INTERNATIONAL SPY MUSEUM",
          "OBJECTID": 28,
          "WEBURL": "HTTP://WWW.SPYMUSEUM.ORG/"
         },
         "type": "Feature"
        },
        {
         "geometry": {
          "coordinates": [
           -77.03268853739414,
           38.88668873773371
          ],
          "type": "Point"
         },
         "properties": {
          "ADDRESS": "100 RAOUL WALLENBERG PLACE SW",
          "ADDRESS_ID": 293186,
          "ALTNAME": "UNITED STATES HOLOCAUST MEMORIAL MUSEUM",
          "LEGALNAME": "NATIONAL MUSIC CENTER AND MUSEUM FOUNDATION",
          "NAME": "UNITED STATES HOLOCAUST MEMORIAL MUSEUM",
          "OBJECTID": 29,
          "WEBURL": "HTTP://WWW.USHMM.ORG"
         },
         "type": "Feature"
        },
        {
         "geometry": {
          "coordinates": [
           -77.02294505078932,
           38.90262956584554
          ],
          "type": "Point"
         },
         "properties": {
          "ADDRESS": "801 K STREET NW",
          "ADDRESS_ID": 238956,
          "ALTNAME": " ",
          "LEGALNAME": "Historical Society of Washington, D.C",
          "NAME": "HISTORICAL SOCIETY OF WASHINGTON DC",
          "OBJECTID": 30,
          "WEBURL": "http://www.dchistory.org/"
         },
         "type": "Feature"
        },
        {
         "geometry": {
          "coordinates": [
           -77.04260256434321,
           38.89445283458921
          ],
          "type": "Point"
         },
         "properties": {
          "ADDRESS": "1849 C STREET NW",
          "ADDRESS_ID": 293214,
          "ALTNAME": "INTERIOR MUSEUM",
          "LEGALNAME": "VICE PRESIDENTS RESIDENCE FOUNDATION",
          "NAME": "INTERIOR MUSEUM",
          "OBJECTID": 31,
          "WEBURL": "HTTP://WWW.DOI.GOV/INTERIORMUSEUM"
         },
         "type": "Feature"
        },
        {
         "geometry": {
          "coordinates": [
           -77.0526196505072,
           38.94364171194315
          ],
          "type": "Point"
         },
         "properties": {
          "ADDRESS": "4155 LINNEAN AVENUE NW",
          "ADDRESS_ID": 284839,
          "ALTNAME": "HILLWOOD MUSEUM & GARDENS",
          "LEGALNAME": "SMITHSONIAN INSTITUTION, NATIONAL GALLERY OF ART",
          "NAME": "HILLWOOD MUSEUM & GARDENS",
          "OBJECTID": 32,
          "WEBURL": "WWW.HILLWOODMUSEUM.ORG"
         },
         "type": "Feature"
        },
        {
         "geometry": {
          "coordinates": [
           -77.03086564182146,
           38.90817580546652
          ],
          "type": "Point"
         },
         "properties": {
          "ADDRESS": "1318 VERMONT AVENUE NW",
          "ADDRESS_ID": 225385,
          "ALTNAME": " ",
          "LEGALNAME": "NATIONAL MUSEUM OF WOMEN IN THE ARTS INC",
          "NAME": "BETHUNE MEMORIAL MUSEUM",
          "OBJECTID": 33,
          "WEBURL": "http://www.nps.gov/mamc/index.htm"
         },
         "type": "Feature"
        },
        {
         "geometry": {
          "coordinates": [
           -77.03551120800971,
           38.90651019329394
          ],
          "type": "Point"
         },
         "properties": {
          "ADDRESS": "1500 MASSACHUSETTS AVENUE NW",
          "ADDRESS_ID": 242324,
          "ALTNAME": " ",
          "LEGALNAME": "KREEGER MUSEUM",
          "NAME": "NATIONAL MUSEUM OF CATHOLIC ART AND LIBRARY",
          "OBJECTID": 34,
          "WEBURL": "http://nmcal.org/nmcah_exhibition_in_washington.html"
         },
         "type": "Feature"
        },
        {
         "geometry": {
          "coordinates": [
           -77.00956143652462,
           38.89812580681995
          ],
          "type": "Point"
         },
         "properties": {
          "ADDRESS": "1 MASSACHUSETTS AVENUE NW",
          "ADDRESS_ID": 238009,
          "ALTNAME": " ",
          "LEGALNAME": "CARL SCHMITT FOUNDATION INC",
          "NAME": "NATIONAL GUARD MEMORIAL MUSEUM",
          "OBJECTID": 35,
          "WEBURL": "HTTP://WWW.NGEF.ORG"
         },
         "type": "Feature"
        },
        {
         "geometry": {
          "coordinates": [
           -77.04211577477285,
           38.91282059721026
          ],
          "type": "Point"
         },
         "properties": {
          "ADDRESS": "1811 R STREET NW",
          "ADDRESS_ID": 243292,
          "ALTNAME": "JEWISH WAR VETERANS NATIONAL MEMORIAL MUSEUM ARCHIVES AND LIBRARY",
          "LEGALNAME": "CITY TAVERN PRESERVATION FOUNDATION",
          "NAME": "NATIONAL MUSEUM OF AMERICAN JEWISH MILITARY HISTORY",
          "OBJECTID": 36,
          "WEBURL": "http://www.nmajmh.org/"
         },
         "type": "Feature"
        },
        {
         "geometry": {
          "coordinates": [
           -77.00466710351098,
           38.93776654366721
          ],
          "type": "Point"
         },
         "properties": {
          "ADDRESS": "3900 HAREWOOD ROAD NE",
          "ADDRESS_ID": 288031,
          "ALTNAME": " ",
          "LEGALNAME": "AMERICAN POETRY MUSEUM",
          "NAME": "POPE JOHN PAUL II CULTURAL CENTER",
          "OBJECTID": 37,
          "WEBURL": "HTTP://WWW.JP2CC.ORG"
         },
         "type": "Feature"
        },
        {
         "geometry": {
          "coordinates": [
           -77.0228592459719,
           38.89285370583677
          ],
          "type": "Point"
         },
         "properties": {
          "ADDRESS": "700 PENNSYLVANIA AVENUE NW",
          "ADDRESS_ID": 293251,
          "ALTNAME": "NATIONAL ARCHIVES MUSEUM",
          "LEGALNAME": "PHILLIPS COLLECTION",
          "NAME": "NATIONAL ARCHIVES MUSEUM",
          "OBJECTID": 38,
          "WEBURL": "https://www.archives.gov/dc-metro/washington/"
         },
         "type": "Feature"
        },
        {
         "geometry": {
          "coordinates": [
           -77.04147388756545,
           38.892799844291474
          ],
          "type": "Point"
         },
         "properties": {
          "ADDRESS": "201 18TH STREET NW",
          "ADDRESS_ID": 294191,
          "ALTNAME": " ",
          "LEGALNAME": "Art Museum of the Americas",
          "NAME": "ART MUSEUM OF THE AMERICAS",
          "OBJECTID": 39,
          "WEBURL": "http://www.museum.oas.org/"
         },
         "type": "Feature"
        },
        {
         "geometry": {
          "coordinates": [
           -77.04730884101534,
           38.91222144699389
          ],
          "type": "Point"
         },
         "properties": {
          "ADDRESS": "9 HILLYER COURT NW",
          "ADDRESS_ID": 279975,
          "ALTNAME": "INTERNATIONAL ARTS & ARTISTS",
          "LEGALNAME": "THE INTERNATIONAL SPY MUSEUM",
          "NAME": "INTERNATIONAL ARTS & ARTISTS",
          "OBJECTID": 40,
          "WEBURL": "WWW.ARTSANDARTISTS.ORG"
         },
         "type": "Feature"
        },
        {
         "geometry": {
          "coordinates": [
           -77.00819124512859,
           38.8981463599396
          ],
          "type": "Point"
         },
         "properties": {
          "ADDRESS": "2 MASSACHUSETTS AVENUE NE",
          "ADDRESS_ID": 293217,
          "ALTNAME": "NATIONAL POSTAL MUSEUM",
          "LEGALNAME": "BEAD SOCIETY OF GREATER WASHINGTON",
          "NAME": "NATIONAL POSTAL MUSEUM",
          "OBJECTID": 41,
          "WEBURL": "HTTP://POSTALMUSEUM.SI.EDU"
         },
         "type": "Feature"
        },
        {
         "geometry": {
          "coordinates": [
           -77.03550660261739,
           38.93243814726252
          ],
          "type": "Point"
         },
         "properties": {
          "ADDRESS": "1519 MONROE STREET NW",
          "ADDRESS_ID": 234557,
          "ALTNAME": " ",
          "LEGALNAME": "AMERICAN UNIVERSITY MUSEUM",
          "NAME": "POWHATAN MUSEUM",
          "OBJECTID": 42,
          "WEBURL": "http://www.powhatanmuseum.com/"
         },
         "type": "Feature"
        },
        {
         "geometry": {
          "coordinates": [
           -77.00375845550963,
           38.89219466787653
          ],
          "type": "Point"
         },
         "properties": {
          "ADDRESS": "144 CONSTITUTION AVENUE NE",
          "ADDRESS_ID": 286201,
          "ALTNAME": " ",
          "LEGALNAME": "AMERICAN MUSEUM OF PEACE INC",
          "NAME": "SEWALL-BELMONT HOUSE AND MUSEUM",
          "OBJECTID": 43,
          "WEBURL": "HTTP://WWW.SEWALLBELMONT.ORG"
         },
         "type": "Feature"
        },
        {
         "geometry": {
          "coordinates": [
           -76.9944246526475,
           38.891834530779185
          ],
          "type": "Point"
         },
         "properties": {
          "ADDRESS": "802 MASSACHUSETTS AVENUE NE",
          "ADDRESS_ID": 79669,
          "ALTNAME": " ",
          "LEGALNAME": "GREENPEACE FUND",
          "NAME": "SHOOK MUSEUM FOUNDATION",
          "OBJECTID": 44,
          "WEBURL": "SHOOKMUSEUM.ORG"
         },
         "type": "Feature"
        },
        {
         "geometry": {
          "coordinates": [
           -77.02591603234607,
           38.89121850995097
          ],
          "type": "Point"
         },
         "properties": {
          "ADDRESS": "1400 CONSTITUTION AVENUE NW",
          "ADDRESS_ID": 310702,
          "ALTNAME": "SMITHSONIAN INSTITUTION, NATIONAL MUSEUM OF NATURAL HISTORY",
          "LEGALNAME": "B'NAI B'RITH KLUTZNICK MUSEUM",
          "NAME": "SMITHSONIAN INSTITUTION, NATIONAL MUSEUM OF NATURAL HISTORY",
          "OBJECTID": 45,
          "WEBURL": "http://www.mnh.si.edu/"
         },
         "type": "Feature"
        },
        {
         "geometry": {
          "coordinates": [
           -77.0196991986925,
           38.922360224748935
          ],
          "type": "Point"
         },
         "properties": {
          "ADDRESS": "500 HOWARD PLACE NW",
          "ADDRESS_ID": 243398,
          "ALTNAME": " ",
          "LEGALNAME": "COLLECTONS STRIES AMRCN MSLIMS",
          "NAME": "HOWARD UNIVERSITY MUSEUM",
          "OBJECTID": 46,
          "WEBURL": "http://www.coas.howard.edu/msrc/museum.html"
         },
         "type": "Feature"
        },
        {
         "geometry": {
          "coordinates": [
           -77.02295571583119,
           38.89815890118559
          ],
          "type": "Point"
         },
         "properties": {
          "ADDRESS": "8TH STREET NW AND  F ST NW",
          "ADDRESS_ID": 294248,
          "ALTNAME": "NATIONAL PORTRAIT GALLERY",
          "LEGALNAME": "BOHEMIA ARTS",
          "NAME": "NATIONAL PORTRAIT GALLERY",
          "OBJECTID": 47,
          "WEBURL": "HTTP://WWW.NPG.SI.EDU"
         },
         "type": "Feature"
        },
        {
         "geometry": {
          "coordinates": [
           -77.03271597832732,
           38.89119983415094
          ],
          "type": "Point"
         },
         "properties": {
          "ADDRESS": "14TH STREET NW AND CONSTITUTION AVENUE NW",
          "ADDRESS_ID": 903110,
          "ALTNAME": "NATIONAL MUSEUM OF AFRICAN AMERICAN HISTORY AND CULTURE",
          "LEGALNAME": "AMERICANS FOR BATTLEFIELD PRESERVATION",
          "NAME": "NATIONAL MUSEUM OF AFRICAN AMERICAN HISTORY AND CULTURE",
          "OBJECTID": 48,
          "WEBURL": "HTTP://WWW.NMAAHC.SI.EDU/"
         },
         "type": "Feature"
        },
        {
         "geometry": {
          "coordinates": [
           -77.01672595283219,
           38.88826561652
          ],
          "type": "Point"
         },
         "properties": {
          "ADDRESS": "4TH STREET SW AND INDEPENDENCE AVENUE SW",
          "ADDRESS_ID": 294429,
          "ALTNAME": " ",
          "LEGALNAME": "BLAIR HOUSE RESTORATION FUND",
          "NAME": "NATIONAL MUSEUM OF AMERICAN INDIAN",
          "OBJECTID": 49,
          "WEBURL": "WWW.NMAI.SI.EDU"
         },
         "type": "Feature"
        },
        {
         "geometry": {
          "coordinates": [
           -77.01979999825605,
           38.888161175521944
          ],
          "type": "Point"
         },
         "properties": {
          "ADDRESS": "6TH STREET SW AND INDEPENDENCE AVENUE SW",
          "ADDRESS_ID": 301565,
          "ALTNAME": "NATIONAL AIR AND SPACE MUSEUM",
          "LEGALNAME": "BETHUNE MEMORIAL MUSEUM",
          "NAME": "NATIONAL AIR AND SPACE MUSEUM",
          "OBJECTID": 50,
          "WEBURL": "HTTP://WWW.NASM.SI.EDU/"
         },
         "type": "Feature"
        },
        {
         "geometry": {
          "coordinates": [
           -77.02294902891254,
           38.88843565656003
          ],
          "type": "Point"
         },
         "properties": {
          "ADDRESS": "7THB STREET AND INDEPENDENCE AVENUE SW",
          "ADDRESS_ID": 294428,
          "ALTNAME": "HIRSHHORN MUSEUM AND SCULPTURE GARDEN",
          "LEGALNAME": "D.C. OFFICE OF PUBLIC RECORDS AND ARCHIVES",
          "NAME": "HIRSHHORN MUSEUM AND SCULPTURE GARDEN",
          "OBJECTID": 51,
          "WEBURL": "HTTP://HIRSHHORN.SI.EDU/"
         },
         "type": "Feature"
        },
        {
         "geometry": {
          "coordinates": [
           -77.03005156534492,
           38.89123181993075
          ],
          "type": "Point"
         },
         "properties": {
          "ADDRESS": "MADISON DRIVE NW AND 12TH STREET NW",
          "ADDRESS_ID": 293200,
          "ALTNAME": "SMITHSONIAN INSTITUTION, NATIONAL MUSEUM OF AMERICAN HISTORY",
          "LEGALNAME": null,
          "NAME": "SMITHSONIAN INSTITUTION, NATIONAL MUSEUM OF AMERICAN HISTORY",
          "OBJECTID": 52,
          "WEBURL": "HTTP://AMERICANHISTORY.SI.EDU"
         },
         "type": "Feature"
        },
        {
         "geometry": {
          "coordinates": [
           -77.01668919569053,
           38.89125721273486
          ],
          "type": "Point"
         },
         "properties": {
          "ADDRESS": "4TH STREET NW AND MADISON DRIVE NW",
          "ADDRESS_ID": 293209,
          "ALTNAME": null,
          "LEGALNAME": null,
          "NAME": "NATIONAL GALLERY OF ART - EAST BUILDING",
          "OBJECTID": 53,
          "WEBURL": "http://www.nga.gov/content/ngaweb/visit/maps-and-information/east-building.html"
         },
         "type": "Feature"
        },
        {
         "geometry": {
          "coordinates": [
           -77.01989150273015,
           38.891313914429645
          ],
          "type": "Point"
         },
         "properties": {
          "ADDRESS": "4TH STREET NW AND MADISON DRIVE NW",
          "ADDRESS_ID": 293249,
          "ALTNAME": null,
          "LEGALNAME": null,
          "NAME": "NATIONAL GALLERY OF ART - WEST BUILDING",
          "OBJECTID": 54,
          "WEBURL": "http://www.nga.gov/content/ngaweb/visit/maps-and-information/west-building.html"
         },
         "type": "Feature"
        },
        {
         "geometry": {
          "coordinates": [
           -77.02597189316775,
           38.88879577572046
          ],
          "type": "Point"
         },
         "properties": {
          "ADDRESS": "1000 JEFFERSON DRIVE SW",
          "ADDRESS_ID": 293187,
          "ALTNAME": null,
          "LEGALNAME": null,
          "NAME": "SMITHSONIAN INSTITUTION - CASTLE",
          "OBJECTID": 55,
          "WEBURL": "http://www.si.edu/Museums/smithsonian-institution-building"
         },
         "type": "Feature"
        },
        {
         "geometry": {
          "coordinates": [
           -77.02645343758842,
           38.88796502751886
          ],
          "type": "Point"
         },
         "properties": {
          "ADDRESS": "1050 INDEPENDENCE AVENUE SW",
          "ADDRESS_ID": 293191,
          "ALTNAME": null,
          "LEGALNAME": "ARTHUR M. SACKLER GALLERY",
          "NAME": "SACKLER GALLERY",
          "OBJECTID": 56,
          "WEBURL": "http://www.asia.si.edu/"
         },
         "type": "Feature"
        },
        {
         "geometry": {
          "coordinates": [
           -77.02736845485786,
           38.8882746680144
          ],
          "type": "Point"
         },
         "properties": {
          "ADDRESS": "JEFFERSON DRIVE SW AND 12TH STREET SW",
          "ADDRESS_ID": 294417,
          "ALTNAME": null,
          "LEGALNAME": "FREER GALLERY OF ART",
          "NAME": "FREER GALLERY",
          "OBJECTID": 57,
          "WEBURL": "http://www.asia.si.edu/"
         },
         "type": "Feature"
        }
       ],
       "type": "FeatureCollection"
      },
      "text/plain": [
       "<IPython.display.GeoJSON object>"
      ]
     },
     "metadata": {
      "application/geo+json": {
       "expanded": false,
       "root": "root"
      }
     },
     "output_type": "display_data"
    }
   ],
   "source": [
    "from IPython.display import GeoJSON\n",
    "\n",
    "GeoJSON(filename=\"Museums_in_DC.geojson\")"
   ]
  },
  {
   "cell_type": "code",
   "execution_count": null,
   "id": "d3e116b4-f949-4702-bbab-a0aa78e4e1f4",
   "metadata": {},
   "outputs": [],
   "source": []
  }
 ],
 "metadata": {
  "kernelspec": {
   "display_name": "Python 3 (ipykernel)",
   "language": "python",
   "name": "python3"
  },
  "language_info": {
   "codemirror_mode": {
    "name": "ipython",
    "version": 3
   },
   "file_extension": ".py",
   "mimetype": "text/x-python",
   "name": "python",
   "nbconvert_exporter": "python",
   "pygments_lexer": "ipython3",
   "version": "3.9.13"
  }
 },
 "nbformat": 4,
 "nbformat_minor": 5
}
