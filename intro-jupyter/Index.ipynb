{
 "cells": [
  {
   "cell_type": "markdown",
   "id": "9f38873d-cb3a-4904-9dd8-08613fa18fc6",
   "metadata": {},
   "source": [
    "# An overview of Jupyter tools\n",
    "\n",
    "1. [Intro-Jupyter](01-Intro-Jupyter.ipynb)\n",
    "1. [Beyond-Plain-Python](02-Beyond-Plain-Python.ipynb)\n",
    "1. [Rich Output](03-Rich-Output.ipynb)\n",
    "1. [Custom display logic](04-Custom-Display-Logic.ipynb)\n",
    "1. [Widgets-interact](05-widgets-interact.ipynb)"
   ]
  },
  {
   "cell_type": "code",
   "execution_count": null,
   "id": "0e580c39-ef9d-4fe4-a24c-1c7d3873dbce",
   "metadata": {},
   "outputs": [],
   "source": []
  }
 ],
 "metadata": {
  "kernelspec": {
   "display_name": "Python 3 (ipykernel)",
   "language": "python",
   "name": "python3"
  },
  "language_info": {
   "codemirror_mode": {
    "name": "ipython",
    "version": 3
   },
   "file_extension": ".py",
   "mimetype": "text/x-python",
   "name": "python",
   "nbconvert_exporter": "python",
   "pygments_lexer": "ipython3",
   "version": "3.9.13"
  }
 },
 "nbformat": 4,
 "nbformat_minor": 5
}
